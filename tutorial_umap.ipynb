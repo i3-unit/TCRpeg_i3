{
 "cells": [
  {
   "cell_type": "code",
   "execution_count": 1,
   "metadata": {},
   "outputs": [],
   "source": [
    "from tcrpeg_toolkit.embedding_clustering import EmbeddingClustering\n",
    "from tcrpeg_toolkit.umap_generator import UMAPGenerator"
   ]
  },
  {
   "cell_type": "code",
   "execution_count": 2,
   "metadata": {},
   "outputs": [
    {
     "name": "stderr",
     "output_type": "stream",
     "text": [
    