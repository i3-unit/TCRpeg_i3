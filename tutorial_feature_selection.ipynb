{
 "cells": [
  {
   "cell_type": "markdown",
   "metadata": {},
   "source": [
    "# Feature selection tutorial"
   ]
  },
  {
   "cell_type": "code",
   "execution_count": 2,
   "metadata": {},
   "outputs": [],
   "source": [
    "import os\n",
    "import numpy as np\n",
    "import pandas as pd\n",
    "import seaborn as sns\n",
    "import matplotlib.pyplot as plt\n",
    "import seaborn.objects as so\n"
   ]
  },
  {
   "cell_type": "code",
   "execution_count": 3,
   "metadata": {},
   "outputs": [],
   "source": [
    "# Add autoreload for easier development\n",
    "%load_ext autoreload\n",
    "%autoreload 2\n",
    "from tcrpeg_toolkit.p_infer_model_evaluation import PinferCalculation\n",
    "from tcrpeg.evaluate import evaluation\n",
    "from tcrpeg.TCRpeg import TCRpeg\n",
    "from tcrpeg_toolkit.plot_heatmap_pinfer import process_numpy_files"
   ]
  },
  {
   "cell_type": "code",
   "execution_count": null,
   "metadata": {},
   "outputs": [],
   "source": [
    "#write a loop to loop over all models and calculate the p_infer\n",
    "\n",
    "# List all models in the directory\n",
    "files_models = os.listdir('/Users/vanessamhanna/Nextcloud/TCRpeg/models/')\n",
    "# Filter for carto 27 files\n",
    "models = [i for i in files_models if '-27' in i]\n",
    "\n",
    "# List all embeddings files in the directory\n",
    "files_embeddings = os.listdir('/Users/vanessamhanna/Nextcloud/TCRpeg/embeddings/txt/')\n",
    "# Filter for carto 27 files\n",
    "embeddings = [i for i in files_embeddings if '-27' in i]\n",
    "\n",
    "# List all data files\n",
    "files_data = os.listdir('/Users/vanessamhanna/Nextcloud/TCRpeg/data/')\n",
    "#filter for carto 27\n",
    "data = [i for i in files_data if '27' in i]\n",
    "\n",
    "#iterate over each model, embedding and data file and apply PinferCalculation function\n",
    "\n",
    "for model in models:\n",
    "    model_file = '/Users/vanessamhanna/Nextcloud/TCRpeg/models/' + model\n",
    "    name_models = os.path.basename(model_file).split('.pth')[0]\n",
    "    \n",
    "    output_dir = '/Users/vanessamhanna/Nextcloud/TCRpeg/'\n",
    "    \n",
    "    for embedding in embeddings:\n",
    "        embedding_file = '/Users/vanessamhanna/Nextcloud/TCRpeg/embeddings/txt/' + embedding\n",
    "        name_embeddings = os.path.basename(embedding_file).split('_aa.txt')[0]\n",
    "\n",
    "        if name_models == name_embeddings:\n",
    "            for data_file in data:\n",
    "                sequence_file = '/Users/vanessamhanna/Nextcloud/TCRpeg/data/' + data_file\n",
    "            \n",
    "                pop_data = os.path.basename(sequence_file).split('-')[2]\n",
    "                pop_models = os.path.basename(model_file).split('-')[2]\n",
    "                \n",
    "\n",
    "                if pop_data == pop_models:\n",
    "                    p_infer_model = PinferCalculation(model_file=model_file,\n",
    "                            embedding_file=embedding_file,\n",
    "                            sequence_file=sequence_file,\n",
    "                            output_dir=output_dir)\n",
    "        \n",
    "                    p_infer_model.run(hidden_size=128, num_layers=5)"
   ]
  },
  {
   "cell_type": "code",
   "execution_count": 5,
   "metadata": {},
   "outputs": [
    {
     "name": "stdout",
     "output_type": "stream",
     "text": [
      "[('SPL-27-nTregs', 'ILN-27-nTregs-TRB', 'CAAARGAETLYF', 1.6074548e-05)\n",
      " ('SPL-27-nTregs', 'ILN-27-nTregs-TRB', 'CAADGGDSYEQYF', 1.9823678e-06)\n",
      " ('SPL-27-nTregs', 'ILN-27-nTregs-TRB', 'CAAERLGNTGQLYF', 6.2499383e-09)\n",
      " ... ('PLN-27-nTregs', 'PALN-27-nTregs-TRB', 'WEAYNSPLYF', 2.2859270e-08)\n",
      " ('PLN-27-nTregs', 'PALN-27-nTregs-TRB', 'WSNERLFF', 3.8061216e-06)\n",
      " ('PLN-27-nTregs', 'PALN-27-nTregs-TRB', 'YASSPTGGQNTLYF', 4.0269956e-06)]\n"
     ]
    }
   ],
   "source": [
    "# read structured array\n",
    "# structured_data = process_numpy_files('/Users/vanessamhanna/Nextcloud/TCRpeg/model_evaluation/BLN-27-amTregs-TRB/', use_structured_array=False)\n",
    "path = '/Users/vanessamhanna/Nextcloud/TCRpeg/model_evaluation/'\n",
    "\n",
    "# Initialize final lists to collect data from all folders\n",
    "sequence_final=[]\n",
    "pinfer_final = []\n",
    "sample_ids_final=[]\n",
    "model_id_final=[]\n",
    "\n",
    "# Iterate over each folder in the specified directory\n",
    "for folder in os.listdir(path):\n",
    "    folder_path = os.path.join(path, folder)\n",
    "    if os.path.isdir(folder_path):\n",
    "            # Initialize lists to collect data from the current folder\n",
    "            sequence_list = []\n",
    "            pinfer_list = []\n",
    "            sample_ids = []\n",
    "            model_id = []\n",
    "            # Iterate over each file in the current folder\n",
    "            for file_name in os.listdir(folder_path):\n",
    "                    if file_name.endswith('.npy'):\n",
    "                        file_path = os.path.join(path, folder, file_name)\n",
    "                        sample_name = file_name.split('-TRB_structured_pinfer')[0]\n",
    "                        data= np.load(file_path)\n",
    "                        sequence_list.extend(data['sequence'])\n",
    "                        pinfer_list.extend(data['pinfer'])\n",
    "                        sample_ids.extend(np.repeat(sample_name, len(data['sequence'])))\n",
    "                        model_id.extend(np.repeat(folder, len(data['sequence'])))\n",
    "                        \n",
    "            # Append the collected data from the current folder to the final lists\n",
    "            sequence_final.extend(sequence_list)\n",
    "            pinfer_final.extend(pinfer_list)\n",
    "            sample_ids_final.extend(sample_ids)\n",
    "            model_id_final.extend(model_id)\n",
    "\n",
    "# Define the dtype for the structured array\n",
    "dtype = [('sample_id', 'U50'), ('model_id', 'U50'), ('sequence', 'U50'), ('pinfer', 'f4')]\n",
    "\n",
    "# Create the structured array with the collected data\n",
    "structured_array = np.array(list(zip(sample_ids_final, model_id_final, sequence_final, pinfer_final)), dtype=dtype)\n",
    "\n",
    "# Print the structured array\n",
    "print(structured_array)"
   ]
  },
  {
   "cell_type": "code",
   "execution_count": 7,
   "metadata": {},
   "outputs": [],
   "source": [
    "df = pd.DataFrame(structured_array)\n",
    "\n",
    "# Save the DataFrame to a CSV file\n",
    "df.to_csv('/Users/vanessamhanna/Nextcloud/TCRpeg/model_evaluation/structured_data.csv', index=False)\n"
   ]
  },
  {
   "cell_type": "code",
   "execution_count": 8,
   "metadata": {},
   "outputs": [],
   "source": [
    "#filter df\n",
    "filtered_df = df[~df['sample_id'].str.contains('SPL')]\n"
   ]
  },
  {
   "cell_type": "code",
   "execution_count": 10,
   "metadata": {},
   "outputs": [],
   "source": [
    "lists_f= []\n",
    "for i in filtered_df['sample_id'].unique():\n",
    "    data_d = filtered_df[filtered_df['sample_id']==i]\n",
    "    data_d = data_d.pivot_table(index=['sample_id', 'sequence'], columns='model_id', values='pinfer', aggfunc='first').reset_index()\n",
    "    data_d.columns.name = None\n",
    "    data_d = data_d.reset_index(drop=True)\n",
    "    check_col = i + '-TRB'\n",
    "    \n",
    "    def check_row(row):\n",
    "            check_value = row[check_col]\n",
    "            other_values = row.drop(labels=['sample_id', 'sequence', check_col]).values\n",
    "            return np.where(check_value > np.max(other_values), 'keep', 'remove')\n",
    "  \n",
    "    data_d['result'] = data_d.apply(check_row, axis=1)\n",
    "    lists_f.append(data_d[['sample_id', 'sequence', 'result']])\n",
    "\n",
    "df_f = pd.concat(lists_f, ignore_index=True)"
   ]
  },
  {
   "cell_type": "code",
   "execution_count": 333,
   "metadata": {},
   "outputs": [
    {
     "name": "stdout",
     "output_type": "stream",
     "text": [
      "          sample_id  result   count      prop cell_pop organ\n",
      "0        BLN-27-CD8    keep    1630  0.066847      CD8   BLN\n",
      "1        BLN-27-CD8  remove   22754  0.933153      CD8   BLN\n",
      "2       BLN-27-Teff    keep   18150  0.123577     Teff   BLN\n",
      "3       BLN-27-Teff  remove  128722  0.876423     Teff   BLN\n",
      "4    BLN-27-amTregs    keep    1999  0.036228  amTregs   BLN\n",
      "5    BLN-27-amTregs  remove   53180  0.963772  amTregs   BLN\n",
      "6     BLN-27-nTregs    keep    8334  0.090958   nTregs   BLN\n",
      "7     BLN-27-nTregs  remove   83291  0.909042   nTregs   BLN\n",
      "8        ILN-27-CD8    keep    6934  0.070788      CD8   ILN\n",
      "9        ILN-27-CD8  remove   91020  0.929212      CD8   ILN\n",
      "10      ILN-27-Teff    keep   16720  0.113480     Teff   ILN\n",
      "11      ILN-27-Teff  remove  130619  0.886520     Teff   ILN\n",
      "12   ILN-27-amTregs    keep    1130  0.025992  amTregs   ILN\n",
      "13   ILN-27-amTregs  remove   42345  0.974008  amTregs   ILN\n",
      "14    ILN-27-nTregs    keep    1097  0.048544   nTregs   ILN\n",
      "15    ILN-27-nTregs  remove   21501  0.951456   nTregs   ILN\n",
      "16       MLN-27-CD8    keep    5398  0.059901      CD8   MLN\n",
      "17       MLN-27-CD8  remove   84717  0.940099      CD8   MLN\n",
      "18      MLN-27-Teff    keep    9246  0.094100     Teff   MLN\n",
      "19      MLN-27-Teff  remove   89011  0.905900     Teff   MLN\n",
      "20   MLN-27-amTregs    keep   18699  0.178137  amTregs   MLN\n",
      "21   MLN-27-amTregs  remove   86271  0.821863  amTregs   MLN\n",
      "22    MLN-27-nTregs    keep   85881  0.526577   nTregs   MLN\n",
      "23    MLN-27-nTregs  remove   77212  0.473423   nTregs   MLN\n",
      "24      PALN-27-CD8    keep    1745  0.105254      CD8  PALN\n",
      "25      PALN-27-CD8  remove   14834  0.894746      CD8  PALN\n",
      "26     PALN-27-Teff    keep   14306  0.266262     Teff  PALN\n",
      "27     PALN-27-Teff  remove   39423  0.733738     Teff  PALN\n",
      "28  PALN-27-amTregs    keep     335  0.159676  amTregs  PALN\n",
      "29  PALN-27-amTregs  remove    1763  0.840324  amTregs  PALN\n",
      "30   PALN-27-nTregs    keep     253  0.192103   nTregs  PALN\n",
      "31   PALN-27-nTregs  remove    1064  0.807897   nTregs  PALN\n",
      "32       PLN-27-CD8    keep   34257  0.499570      CD8   PLN\n",
      "33       PLN-27-CD8  remove   34316  0.500430      CD8   PLN\n",
      "34      PLN-27-Teff    keep   15207  0.305411     Teff   PLN\n",
      "35      PLN-27-Teff  remove   34585  0.694589     Teff   PLN\n",
      "36   PLN-27-amTregs    keep   14955  0.576212  amTregs   PLN\n",
      "37   PLN-27-amTregs  remove   10999  0.423788  amTregs   PLN\n",
      "38    PLN-27-nTregs    keep    2103  0.178175   nTregs   PLN\n",
      "39    PLN-27-nTregs  remove    9700  0.821825   nTregs   PLN\n",
      "40       RLN-27-CD8    keep    7144  0.183086      CD8   RLN\n",
      "41       RLN-27-CD8  remove   31876  0.816914      CD8   RLN\n",
      "42      RLN-27-Teff    keep    2896  0.103028     Teff   RLN\n",
      "43      RLN-27-Teff  remove   25213  0.896972     Teff   RLN\n",
      "44   RLN-27-amTregs    keep     147  0.054304  amTregs   RLN\n",
      "45   RLN-27-amTregs  remove    2560  0.945696  amTregs   RLN\n",
      "46    RLN-27-nTregs    keep     237  0.030526   nTregs   RLN\n",
      "47    RLN-27-nTregs  remove    7527  0.969474   nTregs   RLN\n"
     ]
    }
   ],
   "source": [
    "# Group by 'sample_id' and 'result' and count occurrences\n",
    "df_f['sample_id'] = df_f['sample_id'].astype(str)\n",
    "df_f['result'] = df_f['result'].astype(str)\n",
    "\n",
    "lists_cnt = df_f.groupby(['sample_id', 'result']).size().reset_index(name='count')\n",
    "\n",
    "# Group by 'sample_id' and calculate proportions\n",
    "lists_cnt['prop'] = lists_cnt.groupby('sample_id')['count'].transform(lambda x: x / x.sum())\n",
    "\n",
    "# Extract 'cell_pop' and 'organ' from 'sample_id'\n",
    "lists_cnt['cell_pop'] = lists_cnt['sample_id'].str.split('-').apply(lambda x: x[2])\n",
    "lists_cnt['organ'] = lists_cnt['sample_id'].str.split('-').apply(lambda x: x[0])\n",
    "\n",
    "# Print the final DataFrame to verify\n",
    "print(lists_cnt)"
   ]
  },
  {
   "cell_type": "code",
   "execution_count": 1,
   "metadata": {},
   "outputs": [
    {
     "ename": "NameError",
     "evalue": "name 'lists_cnt' is not defined",
     "output_type": "error",
     "traceback": [
      "\u001b[0;31m---------------------------------------------------------------------------\u001b[0m",
      "\u001b[0;31mNameError\u001b[0m                                 Traceback (most recent call last)",
      "Cell \u001b[0;32mIn[1], line 2\u001b[0m\n\u001b[1;32m      1\u001b[0m \u001b[38;5;66;03m# Filter the DataFrame\u001b[39;00m\n\u001b[0;32m----> 2\u001b[0m filtered_df \u001b[38;5;241m=\u001b[39m \u001b[43mlists_cnt\u001b[49m[(lists_cnt[\u001b[38;5;124m'\u001b[39m\u001b[38;5;124mresult\u001b[39m\u001b[38;5;124m'\u001b[39m] \u001b[38;5;241m==\u001b[39m \u001b[38;5;124m'\u001b[39m\u001b[38;5;124mkeep\u001b[39m\u001b[38;5;124m'\u001b[39m) \u001b[38;5;241m&\u001b[39m (lists_cnt[\u001b[38;5;124m'\u001b[39m\u001b[38;5;124mcell_pop\u001b[39m\u001b[38;5;124m'\u001b[39m] \u001b[38;5;241m!=\u001b[39m \u001b[38;5;124m'\u001b[39m\u001b[38;5;124mCD8\u001b[39m\u001b[38;5;124m'\u001b[39m)]\n\u001b[1;32m      4\u001b[0m \u001b[38;5;66;03m# Create the plot\u001b[39;00m\n\u001b[1;32m      5\u001b[0m g \u001b[38;5;241m=\u001b[39m sns\u001b[38;5;241m.\u001b[39mFacetGrid(filtered_df, col\u001b[38;5;241m=\u001b[39m\u001b[38;5;124m'\u001b[39m\u001b[38;5;124morgan\u001b[39m\u001b[38;5;124m'\u001b[39m, sharey\u001b[38;5;241m=\u001b[39m\u001b[38;5;28;01mFalse\u001b[39;00m)\n",
      "\u001b[0;31mNameError\u001b[0m: name 'lists_cnt' is not defined"
     ]
    }
   ],
   "source": [
    "# Filter the DataFrame\n",
    "filtered_df = lists_cnt[(lists_cnt['result'] == 'keep') & (lists_cnt['cell_pop'] != 'CD8')]\n",
    "\n",
    "# Create the plot\n",
    "g = sns.FacetGrid(filtered_df, col='organ', sharey=False)\n",
    "g.map_dataframe(sns.barplot, x='cell_pop', y='prop', hue='cell_pop', dodge=False)\n",
    "\n",
    "# Customize the plot\n",
    "g.set_axis_labels('Cell Population', 'Proportion')\n",
    "g.set_titles(col_template='{col_name}')\n",
    "g.set_xticklabels(rotation=90)\n",
    "g.add_legend()\n",
    "\n",
    "# Show the plot\n",
    "plt.show()"
   ]
  },
  {
   "cell_type": "code",
   "execution_count": 360,
   "metadata": {},
   "outputs": [
    {
     "data": {
      "image/png": "[encoded data removed]",
      "text/plain": [
       "<Figure size 640x480 with 6 Axes>"
      ]
     },
     "metadata": {},
     "output_type": "display_data"
    }
   ],
   "source": [
    "# Create the plot using seaborn.objects\n",
    "p = (\n",
    "    so.Plot(filtered_df, x='cell_pop', y='prop', color='cell_pop')\n",
    "    .add(so.Bar(), so.Agg())\n",
    "    .facet('organ')\n",
    "    .label(x='', y='Proportion')\n",
    ")\n",
    "\n",
    "p.show()\n"
   ]
  }
 ],
 "metadata": {
  "kernelspec": {
   "display_name": "tcrpeg_env",
   "language": "python",
   "name": "python3"
  },
  "language_info": {
   "codemirror_mode": {
    "name": "ipython",
    "version": 3
   },
   "file_extension": ".py",
   "mimetype": "text/x-python",
   "name": "python",
   "nbconvert_exporter": "python",
   "pygments_lexer": "ipython3",
   "version": "3.12.7"
  }
 },
 "nbformat": 4,
 "nbformat_minor": 2
}
