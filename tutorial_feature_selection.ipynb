{
 "cells": [
  {
   "cell_type": "markdown",
   "metadata": {},
   "source": [
    "# Feature selection tutorial"
   ]
  },
  {
   "cell_type": "code",
   "execution_count": 4,
   "metadata": {},
   "outputs": [],
   "source": [
    "import os\n",
    "import numpy as np\n",
    "import pandas as pd\n",
    "import seaborn as sns\n",
    "import matplotlib.pyplot as plt\n",
    "import seaborn.objects as so\n"
   ]
  },
  {
   "cell_type": "code",
   "execution_count": 6,
   "metadata": {},
   "outputs": [
    {
     "name": "stdout",
     "output_type": "stream",
     "text": [
      "The autoreload extension is already loaded. To reload it, use:\n",
      "  %reload_ext autoreload\n"
     ]
    },
    {
     "name": "stderr",
     "output_type": "stream",
     "text": [
      "/opt/homebrew/Caskroom/miniconda/base/envs/tcrpeg_env/lib/python3.12/site-packages/tqdm/auto.py:21: TqdmWarning: IProgress not found. Please update jupyter and ipywidgets. See https://ipywidgets.readthedocs.io/en/stable/user_install.html\n",
      "  from .autonotebook import tqdm as notebook_tqdm\n"
     ]
    }
   ],
   "source": [
    "# Add autoreload for easier development\n",
    "%load_ext autoreload\n",
    "%autoreload 2\n",
    "from tcrpeg_toolkit.p_infer_model_evaluation import PinferCalculation\n",
    "from tcrpeg.evaluate import evaluation\n",
    "from tcrpeg.TCRpeg import TCRpeg\n",
    "from tcrpeg_toolkit.umap_generator import UMAPGenerator"
   ]
  },
  {
   "cell_type": "code",
   "execution_count": null,
   "metadata": {},
   "outputs": [],
   "source": [
    "#write a loop to loop over all models and calculate the p_infer\n",
    "\n",
    "# List all models in the directory\n",
    "files_models = os.listdir('/Users/vanessamhanna/Nextcloud/TCRpeg/models/')\n",
    "# Filter for carto 27 files\n",
    "models = [i for i in files_models if '-27' in i]\n",
    "\n",
    "# List all embeddings files in the directory\n",
    "files_embeddings = os.listdir('/Users/vanessamhanna/Nextcloud/TCRpeg/embeddings/txt/')\n",
    "# Filter for carto 27 files\n",
    "embeddings = [i for i in files_embeddings if '-27' in i]\n",
    "\n",
    "# List all data files\n",
    "files_data = os.listdir('/Users/vanessamhanna/Nextcloud/TCRpeg/data/')\n",
    "#filter for carto 27\n",
    "data = [i for i in files_data if '27' in i]\n",
    "\n",
    "#iterate over each model, embedding and data file and apply PinferCalculation function\n",
    "\n",
    "for model in models:\n",
    "    model_file = '/Users/vanessamhanna/Nextcloud/TCRpeg/models/' + model\n",
    "    name_models = os.path.basename(model_file).split('.pth')[0]\n",
    "    \n",
    "    output_dir = '/Users/vanessamhanna/Nextcloud/TCRpeg/'\n",
    "    \n",
    "    for embedding in embeddings:\n",
    "        embedding_file = '/Users/vanessamhanna/Nextcloud/TCRpeg/embeddings/txt/' + embedding\n",
    "        name_embeddings = os.path.basename(embedding_file).split('_aa.txt')[0]\n",
    "\n",
    "        if name_models == name_embeddings:\n",
    "            for data_file in data:\n",
    "                sequence_file = '/Users/vanessamhanna/Nextcloud/TCRpeg/data/' + data_file\n",
    "            \n",
    "                pop_data = os.path.basename(sequence_file).split('-')[2]\n",
    "                pop_models = os.path.basename(model_file).split('-')[2]\n",
    "                \n",
    "\n",
    "                if pop_data == pop_models:\n",
    "                    p_infer_model = PinferCalculation(model_file=model_file,\n",
    "                            embedding_file=embedding_file,\n",
    "                            sequence_file=sequence_file,\n",
    "                            output_dir=output_dir)\n",
    "        \n",
    "                    p_infer_model.run(hidden_size=128, num_layers=5)"
   ]
  },
  {
   "cell_type": "code",
   "execution_count": 5,
   "metadata": {},
   "outputs": [
    {
     "name": "stdout",
     "output_type": "stream",
     "text": [
      "[('SPL-27-nTregs', 'ILN-27-nTregs-TRB', 'CAAARGAETLYF', 1.6074548e-05)\n",
      " ('SPL-27-nTregs', 'ILN-27-nTregs-TRB', 'CAADGGDSYEQYF', 1.9823678e-06)\n",
      " ('SPL-27-nTregs', 'ILN-27-nTregs-TRB', 'CAAERLGNTGQLYF', 6.2499383e-09)\n",
      " ... ('PLN-27-nTregs', 'PALN-27-nTregs-TRB', 'WEAYNSPLYF', 2.2859270e-08)\n",
      " ('PLN-27-nTregs', 'PALN-27-nTregs-TRB', 'WSNERLFF', 3.8061216e-06)\n",
      " ('PLN-27-nTregs', 'PALN-27-nTregs-TRB', 'YASSPTGGQNTLYF', 4.0269956e-06)]\n"
     ]
    }
   ],
   "source": [
    "# read structured array\n",
    "# structured_data = process_numpy_files('/Users/vanessamhanna/Nextcloud/TCRpeg/model_evaluation/BLN-27-amTregs-TRB/', use_structured_array=False)\n",
    "path = '/Users/vanessamhanna/Nextcloud/TCRpeg/model_evaluation/'\n",
    "\n",
    "# Initialize final lists to collect data from all folders\n",
    "sequence_final=[]\n",
    "pinfer_final = []\n",
    "sample_ids_final=[]\n",
    "model_id_final=[]\n",
    "\n",
    "# Iterate over each folder in the specified directory\n",
    "for folder in os.listdir(path):\n",
    "    folder_path = os.path.join(path, folder)\n",
    "    if os.path.isdir(folder_path):\n",
    "            # Initialize lists to collect data from the current folder\n",
    "            sequence_list = []\n",
    "            pinfer_list = []\n",
    "            sample_ids = []\n",
    "            model_id = []\n",
    "            # Iterate over each file in the current folder\n",
    "            for file_name in os.listdir(folder_path):\n",
    "                    if file_name.endswith('.npy'):\n",
    "                        file_path = os.path.join(path, folder, file_name)\n",
    "                        sample_name = file_name.split('-TRB_structured_pinfer')[0]\n",
    "                        data= np.load(file_path)\n",
    "                        sequence_list.extend(data['sequence'])\n",
    "                        pinfer_list.extend(data['pinfer'])\n",
    "                        sample_ids.extend(np.repeat(sample_name, len(data['sequence'])))\n",
    "                        model_id.extend(np.repeat(folder, len(data['sequence'])))\n",
    "                        \n",
    "            # Append the collected data from the current folder to the final lists\n",
    "            sequence_final.extend(sequence_list)\n",
    "            pinfer_final.extend(pinfer_list)\n",
    "            sample_ids_final.extend(sample_ids)\n",
    "            model_id_final.extend(model_id)\n",
    "\n",
    "# Define the dtype for the structured array\n",
    "dtype = [('sample_id', 'U50'), ('model_id', 'U50'), ('sequence', 'U50'), ('pinfer', 'f4')]\n",
    "\n",
    "# Create the structured array with the collected data\n",
    "structured_array = np.array(list(zip(sample_ids_final, model_id_final, sequence_final, pinfer_final)), dtype=dtype)\n",
    "\n",
    "# Print the structured array\n",
    "print(structured_array)"
   ]
  },
  {
   "cell_type": "code",
   "execution_count": 13,
   "metadata": {},
   "outputs": [
    {
     "data": {
      "text/html": [
       "<div>\n",
       "<style scoped>\n",
       "    .dataframe tbody tr th:only-of-type {\n",
       "        vertical-align: middle;\n",
       "    }\n",
       "\n",
       "    .dataframe tbody tr th {\n",
       "        vertical-align: top;\n",
       "    }\n",
       "\n",
       "    .dataframe thead th {\n",
       "        text-align: right;\n",
       "    }\n",
       "</style>\n",
       "<table border=\"1\" class=\"dataframe\">\n",
       "  <thead>\n",
       "    <tr style=\"text-align: right;\">\n",
       "      <th></th>\n",
       "      <th>sample_id</th>\n",
       "      <th>model_id</th>\n",
       "      <th>sequence</th>\n",
       "      <th>pinfer</th>\n",
       "    </tr>\n",
       "  </thead>\n",
       "  <tbody>\n",
       "    <tr>\n",
       "      <th>0</th>\n",
       "      <td>SPL-27-nTregs</td>\n",
       "      <td>ILN-27-nTregs-TRB</td>\n",
       "      <td>CAAARGAETLYF</td>\n",
       "      <td>1.607455e-05</td>\n",
       "    </tr>\n",
       "    <tr>\n",
       "      <th>1</th>\n",
       "      <td>SPL-27-nTregs</td>\n",
       "      <td>ILN-27-nTregs-TRB</td>\n",
       "      <td>CAADGGDSYEQYF</td>\n",
       "      <td>1.982368e-06</td>\n",
       "    </tr>\n",
       "    <tr>\n",
       "      <th>2</th>\n",
       "      <td>SPL-27-nTregs</td>\n",
       "      <td>ILN-27-nTregs-TRB</td>\n",
       "      <td>CAAERLGNTGQLYF</td>\n",
       "      <td>6.249938e-09</td>\n",
       "    </tr>\n",
       "    <tr>\n",
       "      <th>3</th>\n",
       "      <td>SPL-27-nTregs</td>\n",
       "      <td>ILN-27-nTregs-TRB</td>\n",
       "      <td>CAAGDQDTQYF</td>\n",
       "      <td>3.121465e-05</td>\n",
       "    </tr>\n",
       "    <tr>\n",
       "      <th>4</th>\n",
       "      <td>SPL-27-nTregs</td>\n",
       "      <td>ILN-27-nTregs-TRB</td>\n",
       "      <td>CAAGGAETLYF</td>\n",
       "      <td>3.198190e-05</td>\n",
       "    </tr>\n",
       "    <tr>\n",
       "      <th>...</th>\n",
       "      <td>...</td>\n",
       "      <td>...</td>\n",
       "      <td>...</td>\n",
       "      <td>...</td>\n",
       "    </tr>\n",
       "    <tr>\n",
       "      <th>11147335</th>\n",
       "      <td>PLN-27-nTregs</td>\n",
       "      <td>PALN-27-nTregs-TRB</td>\n",
       "      <td>RTCSPTGVQDTQYF</td>\n",
       "      <td>5.327034e-09</td>\n",
       "    </tr>\n",
       "    <tr>\n",
       "      <th>11147336</th>\n",
       "      <td>PLN-27-nTregs</td>\n",
       "      <td>PALN-27-nTregs-TRB</td>\n",
       "      <td>SASSRQGANTGQLYF</td>\n",
       "      <td>2.591086e-07</td>\n",
       "    </tr>\n",
       "    <tr>\n",
       "      <th>11147337</th>\n",
       "      <td>PLN-27-nTregs</td>\n",
       "      <td>PALN-27-nTregs-TRB</td>\n",
       "      <td>WEAYNSPLYF</td>\n",
       "      <td>2.285927e-08</td>\n",
       "    </tr>\n",
       "    <tr>\n",
       "      <th>11147338</th>\n",
       "      <td>PLN-27-nTregs</td>\n",
       "      <td>PALN-27-nTregs-TRB</td>\n",
       "      <td>WSNERLFF</td>\n",
       "      <td>3.806122e-06</td>\n",
       "    </tr>\n",
       "    <tr>\n",
       "      <th>11147339</th>\n",
       "      <td>PLN-27-nTregs</td>\n",
       "      <td>PALN-27-nTregs-TRB</td>\n",
       "      <td>YASSPTGGQNTLYF</td>\n",
       "      <td>4.026996e-06</td>\n",
       "    </tr>\n",
       "  </tbody>\n",
       "</table>\n",
       "<p>11147340 rows × 4 columns</p>\n",
       "</div>"
      ],
      "text/plain": [
       "              sample_id            model_id         sequence        pinfer\n",
       "0         SPL-27-nTregs   ILN-27-nTregs-TRB     CAAARGAETLYF  1.607455e-05\n",
       "1         SPL-27-nTregs   ILN-27-nTregs-TRB    CAADGGDSYEQYF  1.982368e-06\n",
       "2         SPL-27-nTregs   ILN-27-nTregs-TRB   CAAERLGNTGQLYF  6.249938e-09\n",
       "3         SPL-27-nTregs   ILN-27-nTregs-TRB      CAAGDQDTQYF  3.121465e-05\n",
       "4         SPL-27-nTregs   ILN-27-nTregs-TRB      CAAGGAETLYF  3.198190e-05\n",
       "...                 ...                 ...              ...           ...\n",
       "11147335  PLN-27-nTregs  PALN-27-nTregs-TRB   RTCSPTGVQDTQYF  5.327034e-09\n",
       "11147336  PLN-27-nTregs  PALN-27-nTregs-TRB  SASSRQGANTGQLYF  2.591086e-07\n",
       "11147337  PLN-27-nTregs  PALN-27-nTregs-TRB       WEAYNSPLYF  2.285927e-08\n",
       "11147338  PLN-27-nTregs  PALN-27-nTregs-TRB         WSNERLFF  3.806122e-06\n",
       "11147339  PLN-27-nTregs  PALN-27-nTregs-TRB   YASSPTGGQNTLYF  4.026996e-06\n",
       "\n",
       "[11147340 rows x 4 columns]"
      ]
     },
     "execution_count": 13,
     "metadata": {},
     "output_type": "execute_result"
    }
   ],
   "source": [
    "df"
   ]
  },
  {
   "cell_type": "code",
   "execution_count": 14,
   "metadata": {},
   "outputs": [],
   "source": [
    "df = pd.DataFrame(structured_array)\n",
    "\n",
    "# Save the DataFrame to a CSV file\n",
    "df.to_csv('/Users/vanessamhanna/Nextcloud/TCRpeg/analysis/structured_data_signature_27.csv', index=False)\n"
   ]
  },
  {
   "cell_type": "code",
   "execution_count": 8,
   "metadata": {},
   "outputs": [],
   "source": [
    "#filter df\n",
    "filtered_df = df[~df['sample_id'].str.contains('SPL')]\n"
   ]
  },
  {
   "cell_type": "code",
   "execution_count": 16,
   "metadata": {},
   "outputs": [],
   "source": [
    "lists_f= []\n",
    "for i in filtered_df['sample_id'].unique():\n",
    "    data_d = filtered_df[filtered_df['sample_id']==i]\n",
    "    data_d = data_d.pivot_table(index=['sample_id', 'sequence'], columns='model_id', values='pinfer', aggfunc='first').reset_index()\n",
    "    data_d.columns.name = None\n",
    "    data_d = data_d.reset_index(drop=True)\n",
    "    check_col = i + '-TRB'\n",
    "    \n",
    "    def check_row(row):\n",
    "            check_value = row[check_col]\n",
    "            other_values = row.drop(labels=['sample_id', 'sequence', check_col]).values\n",
    "            return np.where(check_value > np.max(other_values), 'signature', 'non_signature')\n",
    "  \n",
    "    data_d['result'] = data_d.apply(check_row, axis=1)\n",
    "    lists_f.append(data_d[['sample_id', 'sequence', 'result']])\n",
    "\n",
    "df_f = pd.concat(lists_f, ignore_index=True)"
   ]
  },
  {
   "cell_type": "code",
   "execution_count": 19,
   "metadata": {},
   "outputs": [],
   "source": [
    "\n",
    "# Save the DataFrame to a CSV file\n",
    "df_f.to_csv('/Users/vanessamhanna/Nextcloud/TCRpeg/analysis/structured_data_signature_27.csv', index=False)\n"
   ]
  },
  {
   "cell_type": "code",
   "execution_count": null,
   "metadata": {},
   "outputs": [],
   "source": [
    "df_f = pd.read_csv('/Users/vanessamhanna/Nextcloud/TCRpeg/analysis/structured_data_signature_27.csv')"
   ]
  },
  {
   "cell_type": "code",
   "execution_count": 8,
   "metadata": {},
   "outputs": [],
   "source": [
    "filtered_df = df_f[df_f['sample_id']=='PLN-27-nTregs']\n",
    "filtered_df.to_csv('/Users/vanessamhanna/Nextcloud/TCRpeg/analysis/metadata_signature_27.csv', index=True, index_label='id')"
   ]
  },
  {
   "cell_type": "code",
   "execution_count": 9,
   "metadata": {},
   "outputs": [
    {
     "data": {
      "text/plain": [
       "sample_id    object\n",
       "sequence     object\n",
       "result       object\n",
       "dtype: object"
      ]
     },
     "execution_count": 9,
     "metadata": {},
     "output_type": "execute_result"
    }
   ],
   "source": [
    "filtered_df.dtypes\n"
   ]
  },
  {
   "cell_type": "code",
   "execution_count": 10,
   "metadata": {},
   "outputs": [
    {
     "name": "stderr",
     "output_type": "stream",
     "text": [
      "INFO - Data loaded from /Users/vanessamhanna/Nextcloud/TCRpeg/analysis/metadata_signature_27.csv\n"
     ]
    },
    {
     "name": "stderr",
     "output_type": "stream",
     "text": [
      "INFO - Data loaded from /Users/vanessamhanna/Nextcloud/TCRpeg/embeddings/structured/PLN-27-nTregs-TRB_structured_embeddings.npy\n"
     ]
    }
   ],
   "source": [
    "sign = UMAPGenerator('/Users/vanessamhanna/Nextcloud/TCRpeg/embeddings/structured/PLN-27-nTregs-TRB_structured_embeddings.npy', metadata='/Users/vanessamhanna/Nextcloud/TCRpeg/analysis/metadata_signature_27.csv')"
   ]
  },
  {
   "cell_type": "code",
   "execution_count": 11,
   "metadata": {},
   "outputs": [
    {
     "name": "stderr",
     "output_type": "stream",
     "text": [
      "/opt/homebrew/Caskroom/miniconda/base/envs/tcrpeg_env/lib/python3.12/site-packages/umap/umap_.py:1945: UserWarning: n_jobs value 1 overridden to 1 by setting random_state. Use no seed for parallelism.\n",
      "  warn(f\"n_jobs value {self.n_jobs} overridden to 1 by setting random_state. Use no seed for parallelism.\")\n",
      "OMP: Info #276: omp_set_nested routine deprecated, please use omp_set_max_active_levels instead.\n"
     ]
    }
   ],
   "source": [
    "sign.run()\n"
   ]
  },
  {
   "cell_type": "code",
   "execution_count": 15,
   "metadata": {},
   "outputs": [
    {
     "data": {
      "text/html": [
       "<div>\n",
       "<style scoped>\n",
       "    .dataframe tbody tr th:only-of-type {\n",
       "        vertical-align: middle;\n",
       "    }\n",
       "\n",
       "    .dataframe tbody tr th {\n",
       "        vertical-align: top;\n",
       "    }\n",
       "\n",
       "    .dataframe thead th {\n",
       "        text-align: right;\n",
       "    }\n",
       "</style>\n",
       "<table border=\"1\" class=\"dataframe\">\n",
       "  <thead>\n",
       "    <tr style=\"text-align: right;\">\n",
       "      <th></th>\n",
       "      <th>id</th>\n",
       "      <th>sample_id</th>\n",
       "      <th>sequence</th>\n",
       "      <th>result</th>\n",
       "    </tr>\n",
       "  </thead>\n",
       "  <tbody>\n",
       "    <tr>\n",
       "      <th>0</th>\n",
       "      <td>286397</td>\n",
       "      <td>PLN-27-nTregs</td>\n",
       "      <td>CAAGADQNTLYF</td>\n",
       "      <td>signature</td>\n",
       "    </tr>\n",
       "    <tr>\n",
       "      <th>1</th>\n",
       "      <td>286398</td>\n",
       "      <td>PLN-27-nTregs</td>\n",
       "      <td>CAAGISNERLFF</td>\n",
       "      <td>non_signature</td>\n",
       "    </tr>\n",
       "    <tr>\n",
       "      <th>2</th>\n",
       "      <td>286399</td>\n",
       "      <td>PLN-27-nTregs</td>\n",
       "      <td>CAAGKNTEVFF</td>\n",
       "      <td>non_signature</td>\n",
       "    </tr>\n",
       "    <tr>\n",
       "      <th>3</th>\n",
       "      <td>286400</td>\n",
       "      <td>PLN-27-nTregs</td>\n",
       "      <td>CAAGTRNERLFF</td>\n",
       "      <td>non_signature</td>\n",
       "    </tr>\n",
       "    <tr>\n",
       "      <th>4</th>\n",
       "      <td>286401</td>\n",
       "      <td>PLN-27-nTregs</td>\n",
       "      <td>CACRAPSAETLYF</td>\n",
       "      <td>non_signature</td>\n",
       "    </tr>\n",
       "    <tr>\n",
       "      <th>...</th>\n",
       "      <td>...</td>\n",
       "      <td>...</td>\n",
       "      <td>...</td>\n",
       "      <td>...</td>\n",
       "    </tr>\n",
       "    <tr>\n",
       "      <th>11798</th>\n",
       "      <td>298195</td>\n",
       "      <td>PLN-27-nTregs</td>\n",
       "      <td>RTCSPTGVQDTQYF</td>\n",
       "      <td>non_signature</td>\n",
       "    </tr>\n",
       "    <tr>\n",
       "      <th>11799</th>\n",
       "      <td>298196</td>\n",
       "      <td>PLN-27-nTregs</td>\n",
       "      <td>SASSRQGANTGQLYF</td>\n",
       "      <td>non_signature</td>\n",
       "    </tr>\n",
       "    <tr>\n",
       "      <th>11800</th>\n",
       "      <td>298197</td>\n",
       "      <td>PLN-27-nTregs</td>\n",
       "      <td>WEAYNSPLYF</td>\n",
       "      <td>non_signature</td>\n",
       "    </tr>\n",
       "    <tr>\n",
       "      <th>11801</th>\n",
       "      <td>298198</td>\n",
       "      <td>PLN-27-nTregs</td>\n",
       "      <td>WSNERLFF</td>\n",
       "      <td>non_signature</td>\n",
       "    </tr>\n",
       "    <tr>\n",
       "      <th>11802</th>\n",
       "      <td>298199</td>\n",
       "      <td>PLN-27-nTregs</td>\n",
       "      <td>YASSPTGGQNTLYF</td>\n",
       "      <td>non_signature</td>\n",
       "    </tr>\n",
       "  </tbody>\n",
       "</table>\n",
       "<p>11803 rows × 4 columns</p>\n",
       "</div>"
      ],
      "text/plain": [
       "           id      sample_id         sequence         result\n",
       "0      286397  PLN-27-nTregs     CAAGADQNTLYF      signature\n",
       "1      286398  PLN-27-nTregs     CAAGISNERLFF  non_signature\n",
       "2      286399  PLN-27-nTregs      CAAGKNTEVFF  non_signature\n",
       "3      286400  PLN-27-nTregs     CAAGTRNERLFF  non_signature\n",
       "4      286401  PLN-27-nTregs    CACRAPSAETLYF  non_signature\n",
       "...       ...            ...              ...            ...\n",
       "11798  298195  PLN-27-nTregs   RTCSPTGVQDTQYF  non_signature\n",
       "11799  298196  PLN-27-nTregs  SASSRQGANTGQLYF  non_signature\n",
       "11800  298197  PLN-27-nTregs       WEAYNSPLYF  non_signature\n",
       "11801  298198  PLN-27-nTregs         WSNERLFF  non_signature\n",
       "11802  298199  PLN-27-nTregs   YASSPTGGQNTLYF  non_signature\n",
       "\n",
       "[11803 rows x 4 columns]"
      ]
     },
     "execution_count": 15,
     "metadata": {},
     "output_type": "execute_result"
    }
   ],
   "source": [
    "sign.metadata"
   ]
  },
  {
   "cell_type": "code",
   "execution_count": 21,
   "metadata": {},
   "outputs": [
    {
     "name": "stdout",
     "output_type": "stream",
     "text": [
      "{}\n",
      "{}\n"
     ]
    },
    {
     "name": "stderr",
     "output_type": "stream",
     "text": [
      "/Users/vanessamhanna/Github/TCRpeg_i3/tcrpeg_toolkit/umap_generator.py:201: UserWarning: Ignoring `palette` because no `hue` variable has been assigned.\n",
      "  sns.scatterplot(x=self.umap_data['UMAP_1'],\n"
     ]
    },
    {
     "ename": "ValueError",
     "evalue": "not enough values to unpack (expected 2, got 0)",
     "output_type": "error",
     "traceback": [
      "\u001b[0;31m---------------------------------------------------------------------------\u001b[0m",
      "\u001b[0;31mValueError\u001b[0m                                Traceback (most recent call last)",
      "Cell \u001b[0;32mIn[21], line 1\u001b[0m\n\u001b[0;32m----> 1\u001b[0m \u001b[43msign\u001b[49m\u001b[38;5;241;43m.\u001b[39;49m\u001b[43mplot_umap\u001b[49m\u001b[43m(\u001b[49m\u001b[43mhue\u001b[49m\u001b[38;5;241;43m=\u001b[39;49m\u001b[38;5;124;43m'\u001b[39;49m\u001b[38;5;124;43msample_id\u001b[39;49m\u001b[38;5;124;43m'\u001b[39;49m\u001b[43m,\u001b[49m\u001b[43m \u001b[49m\u001b[43mpalette\u001b[49m\u001b[38;5;241;43m=\u001b[39;49m\u001b[38;5;124;43m'\u001b[39;49m\u001b[38;5;124;43mhusl\u001b[39;49m\u001b[38;5;124;43m'\u001b[39;49m\u001b[43m)\u001b[49m\n",
      "File \u001b[0;32m~/Github/TCRpeg_i3/tcrpeg_toolkit/umap_generator.py:228\u001b[0m, in \u001b[0;36mUMAPGenerator.plot_umap\u001b[0;34m(self, ax, hue, palette, alpha, show, output_file, **kwargs)\u001b[0m\n\u001b[1;32m    226\u001b[0m     unique_hues \u001b[38;5;241m=\u001b[39m \u001b[38;5;28mself\u001b[39m\u001b[38;5;241m.\u001b[39mumap_data[\u001b[38;5;124mf\u001b[39m\u001b[38;5;124m\"\u001b[39m\u001b[38;5;132;01m{\u001b[39;00mhue\u001b[38;5;132;01m}\u001b[39;00m\u001b[38;5;124m_categorical\u001b[39m\u001b[38;5;124m\"\u001b[39m]\u001b[38;5;241m.\u001b[39munique()\u001b[38;5;241m.\u001b[39mtolist()\n\u001b[1;32m    227\u001b[0m     sorted_handles_labels \u001b[38;5;241m=\u001b[39m \u001b[38;5;28msorted\u001b[39m(\u001b[38;5;28mzip\u001b[39m(handles, labels), key\u001b[38;5;241m=\u001b[39m\u001b[38;5;28;01mlambda\u001b[39;00m x: unique_hues\u001b[38;5;241m.\u001b[39mindex(x[\u001b[38;5;241m1\u001b[39m]) \u001b[38;5;28;01mif\u001b[39;00m x[\u001b[38;5;241m1\u001b[39m] \u001b[38;5;129;01min\u001b[39;00m unique_hues \u001b[38;5;28;01melse\u001b[39;00m \u001b[38;5;28mfloat\u001b[39m(\u001b[38;5;124m'\u001b[39m\u001b[38;5;124minf\u001b[39m\u001b[38;5;124m'\u001b[39m))\n\u001b[0;32m--> 228\u001b[0m     handles, labels \u001b[38;5;241m=\u001b[39m \u001b[38;5;28mzip\u001b[39m(\u001b[38;5;241m*\u001b[39msorted_handles_labels)\n\u001b[1;32m    230\u001b[0m \u001b[38;5;66;03m# Calculate dynamic number of columns\u001b[39;00m\n\u001b[1;32m    231\u001b[0m num_items \u001b[38;5;241m=\u001b[39m \u001b[38;5;28mlen\u001b[39m(handles)\n",
      "\u001b[0;31mValueError\u001b[0m: not enough values to unpack (expected 2, got 0)"
     ]
    },
    {
     "data": {
      "image/png": "[encoded data removed]",
      "text/plain": [
       "<Figure size 1000x800 with 1 Axes>"
      ]
     },
     "metadata": {},
     "output_type": "display_data"
    }
   ],
   "source": [
    "sign.plot_umap(hue='sample_id', palette='husl')"
   ]
  },
  {
   "cell_type": "code",
   "execution_count": 333,
   "metadata": {},
   "outputs": [
    {
     "name": "stdout",
     "output_type": "stream",
     "text": [
      "          sample_id  result   count      prop cell_pop organ\n",
      "0        BLN-27-CD8    keep    1630  0.066847      CD8   BLN\n",
      "1        BLN-27-CD8  remove   22754  0.933153      CD8   BLN\n",
      "2       BLN-27-Teff    keep   18150  0.123577     Teff   BLN\n",
      "3       BLN-27-Teff  remove  128722  0.876423     Teff   BLN\n",
      "4    BLN-27-amTregs    keep    1999  0.036228  amTregs   BLN\n",
      "5    BLN-27-amTregs  remove   53180  0.963772  amTregs   BLN\n",
      "6     BLN-27-nTregs    keep    8334  0.090958   nTregs   BLN\n",
      "7     BLN-27-nTregs  remove   83291  0.909042   nTregs   BLN\n",
      "8        ILN-27-CD8    keep    6934  0.070788      CD8   ILN\n",
      "9        ILN-27-CD8  remove   91020  0.929212      CD8   ILN\n",
      "10      ILN-27-Teff    keep   16720  0.113480     Teff   ILN\n",
      "11      ILN-27-Teff  remove  130619  0.886520     Teff   ILN\n",
      "12   ILN-27-amTregs    keep    1130  0.025992  amTregs   ILN\n",
      "13   ILN-27-amTregs  remove   42345  0.974008  amTregs   ILN\n",
      "14    ILN-27-nTregs    keep    1097  0.048544   nTregs   ILN\n",
      "15    ILN-27-nTregs  remove   21501  0.951456   nTregs   ILN\n",
      "16       MLN-27-CD8    keep    5398  0.059901      CD8   MLN\n",
      "17       MLN-27-CD8  remove   84717  0.940099      CD8   MLN\n",
      "18      MLN-27-Teff    keep    9246  0.094100     Teff   MLN\n",
      "19      MLN-27-Teff  remove   89011  0.905900     Teff   MLN\n",
      "20   MLN-27-amTregs    keep   18699  0.178137  amTregs   MLN\n",
      "21   MLN-27-amTregs  remove   86271  0.821863  amTregs   MLN\n",
      "22    MLN-27-nTregs    keep   85881  0.526577   nTregs   MLN\n",
      "23    MLN-27-nTregs  remove   77212  0.473423   nTregs   MLN\n",
      "24      PALN-27-CD8    keep    1745  0.105254      CD8  PALN\n",
      "25      PALN-27-CD8  remove   14834  0.894746      CD8  PALN\n",
      "26     PALN-27-Teff    keep   14306  0.266262     Teff  PALN\n",
      "27     PALN-27-Teff  remove   39423  0.733738     Teff  PALN\n",
      "28  PALN-27-amTregs    keep     335  0.159676  amTregs  PALN\n",
      "29  PALN-27-amTregs  remove    1763  0.840324  amTregs  PALN\n",
      "30   PALN-27-nTregs    keep     253  0.192103   nTregs  PALN\n",
      "31   PALN-27-nTregs  remove    1064  0.807897   nTregs  PALN\n",
      "32       PLN-27-CD8    keep   34257  0.499570      CD8   PLN\n",
      "33       PLN-27-CD8  remove   34316  0.500430      CD8   PLN\n",
      "34      PLN-27-Teff    keep   15207  0.305411     Teff   PLN\n",
      "35      PLN-27-Teff  remove   34585  0.694589     Teff   PLN\n",
      "36   PLN-27-amTregs    keep   14955  0.576212  amTregs   PLN\n",
      "37   PLN-27-amTregs  remove   10999  0.423788  amTregs   PLN\n",
      "38    PLN-27-nTregs    keep    2103  0.178175   nTregs   PLN\n",
      "39    PLN-27-nTregs  remove    9700  0.821825   nTregs   PLN\n",
      "40       RLN-27-CD8    keep    7144  0.183086      CD8   RLN\n",
      "41       RLN-27-CD8  remove   31876  0.816914      CD8   RLN\n",
      "42      RLN-27-Teff    keep    2896  0.103028     Teff   RLN\n",
      "43      RLN-27-Teff  remove   25213  0.896972     Teff   RLN\n",
      "44   RLN-27-amTregs    keep     147  0.054304  amTregs   RLN\n",
      "45   RLN-27-amTregs  remove    2560  0.945696  amTregs   RLN\n",
      "46    RLN-27-nTregs    keep     237  0.030526   nTregs   RLN\n",
      "47    RLN-27-nTregs  remove    7527  0.969474   nTregs   RLN\n"
     ]
    }
   ],
   "source": [
    "# Group by 'sample_id' and 'result' and count occurrences\n",
    "df_f['sample_id'] = df_f['sample_id'].astype(str)\n",
    "df_f['result'] = df_f['result'].astype(str)\n",
    "\n",
    "lists_cnt = df_f.groupby(['sample_id', 'result']).size().reset_index(name='count')\n",
    "\n",
    "# Group by 'sample_id' and calculate proportions\n",
    "lists_cnt['prop'] = lists_cnt.groupby('sample_id')['count'].transform(lambda x: x / x.sum())\n",
    "\n",
    "# Extract 'cell_pop' and 'organ' from 'sample_id'\n",
    "lists_cnt['cell_pop'] = lists_cnt['sample_id'].str.split('-').apply(lambda x: x[2])\n",
    "lists_cnt['organ'] = lists_cnt['sample_id'].str.split('-').apply(lambda x: x[0])\n",
    "\n",
    "# Print the final DataFrame to verify\n",
    "print(lists_cnt)"
   ]
  }
 ],
 "metadata": {
  "kernelspec": {
   "display_name": "tcrpeg_env",
   "language": "python",
   "name": "python3"
  },
  "language_info": {
   "codemirror_mode": {
    "name": "ipython",
    "version": 3
   },
   "file_extension": ".py",
   "mimetype": "text/x-python",
   "name": "python",
   "nbconvert_exporter": "python",
   "pygments_lexer": "ipython3",
   "version": "3.12.7"
  }
 },
 "nbformat": 4,
 "nbformat_minor": 2
}
