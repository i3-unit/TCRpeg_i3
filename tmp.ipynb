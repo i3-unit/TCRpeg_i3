{
 "cells": [
  {
   "cell_type": "markdown",
   "metadata": {},
   "source": [
    "Connected to base (Python 3.10.6)"
   ]
  },
  {
   "cell_type": "code",
   "execution_count": 1,
   "metadata": {},
   "outputs": [],
   "source": [
    "import numpy as np"
   ]
  },
  {
   "cell_type": "code",
   "execution_count": 2,
   "metadata": {},
   "outputs": [],
   "source": [
    "import pandas as pd"
   ]
  },
  {
   "cell_type": "code",
   "execution_count": 3,
   "metadata": {},
   "outputs": [],
   "source": [
    "sample_1 = pd.read_csv(\"sample_data/sample_1.csv\")"
   ]
  },
  {
   "cell_type": "code",
   "execution_count": 15,
   "metadata": {},
   "outputs": [],
   "source": [
    "sample_1['id'] = sample_1.index"
   ]
  },
  {
   "cell_type": "code",
   "execution_count": 4,
   "metadata": {},
   "outputs": [],
   "source": [
    "sample_2 = pd.read_csv(\"sample_data/sample_2.csv\")"
   ]
  },
  {
   "cell_type": "code",
   "execution_count": 16,
   "metadata": {},
   "outputs": [],
   "source": [
    "sample_2['id'] = sample_2.index"
   ]
  },
  {
   "cell_type": "code",
   "execution_count": 5,
   "metadata": {},
   "outputs": [],
   "source": [
    "from tcrpeg_toolkit.embedding_handler import EmbeddingHandler"
   ]
  },
  {
   "cell_type": "code",
   "execution_count": 17,
   "metadata": {},
   "outputs": [
    {
     "name": "stderr",
     "output_type": "stream",
     "text": [
      "INFO - Data loaded from results_sample_data/embeddings/structured/sample_1_structured_embeddings.npy\n"
     ]
    }
   ],
   "source": [
    "sample_1_embeddings = EmbeddingHandler(\"results_sample_data/embeddings/structured/sample_1_structured_embeddings.npy\",\n",
    "                                       name ='sample_1', metadata=sample_1)"
   ]
  },
  {
   "cell_type": "code",
   "execution_count": 18,
   "metadata": {},
   "outputs": [
    {
     "name": "stderr",
     "output_type": "stream",
     "text": [
      "INFO - Data loaded from results_sample_data/embeddings/structured/sample_2_structured_embeddings.npy\n"
     ]
    }
   ],
   "source": [
    "sample_2_embeddings = EmbeddingHandler(\"results_sample_data/embeddings/structured/sample_2_structured_embeddings.npy\",\n",
    "                                       name ='sample_1', metadata=sample_2)"
   ]
  },
  {
   "cell_type": "code",
   "execution_count": 19,
   "metadata": {},
   "outputs": [],
   "source": [
    "sequence_common = np.intersect1d(sample_1['sequence'], sample_2['sequence'])"
   ]
  },
  {
   "cell_type": "code",
   "execution_count": 20,
   "metadata": {},
   "outputs": [
    {
     "data": {
      "text/plain": [
       "array(['CAADWGGAGDTQYF', 'CAAGGTTSAETLYF', 'CACGGASAETLYF', ...,\n",
       "       'RASSLVGASSAETLYF', 'YASSDEQGSTGQLYF', 'YTCSAGLGYEQYF'],\n",
       "      dtype=object)"
      ]
     },
     "execution_count": 20,
     "metadata": {},
     "output_type": "execute_result"
    }
   ],
   "source": [
    "sequence_common"
   ]
  },
  {
   "cell_type": "code",
   "execution_count": 21,
   "metadata": {},
   "outputs": [],
   "source": [
    "sample_all_embeddings = sample_1_embeddings + sample_2_embeddings"
   ]
  },
  {
   "cell_type": "code",
   "execution_count": 22,
   "metadata": {},
   "outputs": [
    {
     "data": {
      "text/plain": [
       "EmbeddingHandler(embeddings_shape=(3983, 640), ids_shape=(3983,), sequences_shape=(3983,), metadata_shape=(3983, 5), name=sample_1_sample_1)"
      ]
     },
     "execution_count": 22,
     "metadata": {},
     "output_type": "execute_result"
    }
   ],
   "source": [
    "sample_all_embeddings"
   ]
  },
  {
   "cell_type": "code",
   "execution_count": 26,
   "metadata": {},
   "outputs": [
    {
     "data": {
      "text/html": [
       "<div>\n",
       "<style scoped>\n",
       "    .dataframe tbody tr th:only-of-type {\n",
       "        vertical-align: middle;\n",
       "    }\n",
       "\n",
       "    .dataframe tbody tr th {\n",
       "        vertical-align: top;\n",
       "    }\n",
       "\n",
       "    .dataframe thead th {\n",
       "        text-align: right;\n",
       "    }\n",
       "</style>\n",
       "<table border=\"1\" class=\"dataframe\">\n",
       "  <thead>\n",
       "    <tr style=\"text-align: right;\">\n",
       "      <th></th>\n",
       "      <th>id</th>\n",
       "      <th>sequence</th>\n",
       "      <th>count</th>\n",
       "      <th>id_old</th>\n",
       "      <th>data_origin</th>\n",
       "    </tr>\n",
       "  </thead>\n",
       "  <tbody>\n",
       "    <tr>\n",
       "      <th>0</th>\n",
       "      <td>0:sample_1</td>\n",
       "      <td>CASTAGTSNTEVFF</td>\n",
       "      <td>4</td>\n",
       "      <td>0</td>\n",
       "      <td>sample_1</td>\n",
       "    </tr>\n",
       "    <tr>\n",
       "      <th>1</th>\n",
       "      <td>1:sample_1</td>\n",
       "      <td>CGGGADTGQLYF</td>\n",
       "      <td>3</td>\n",
       "      <td>1</td>\n",
       "      <td>sample_1</td>\n",
       "    </tr>\n",
       "    <tr>\n",
       "      <th>2</th>\n",
       "      <td>2:sample_1</td>\n",
       "      <td>CGARFSYNSPLYF</td>\n",
       "      <td>2</td>\n",
       "      <td>2</td>\n",
       "      <td>sample_1</td>\n",
       "    </tr>\n",
       "    <tr>\n",
       "      <th>3</th>\n",
       "      <td>3:sample_1</td>\n",
       "      <td>CASSLNTEVFF</td>\n",
       "      <td>125</td>\n",
       "      <td>3</td>\n",
       "      <td>sample_1</td>\n",
       "    </tr>\n",
       "    <tr>\n",
       "      <th>4</th>\n",
       "      <td>4:sample_1</td>\n",
       "      <td>CASSLTGGGGAETLYF</td>\n",
       "      <td>10</td>\n",
       "      <td>4</td>\n",
       "      <td>sample_1</td>\n",
       "    </tr>\n",
       "    <tr>\n",
       "      <th>...</th>\n",
       "      <td>...</td>\n",
       "      <td>...</td>\n",
       "      <td>...</td>\n",
       "      <td>...</td>\n",
       "      <td>...</td>\n",
       "    </tr>\n",
       "    <tr>\n",
       "      <th>3978</th>\n",
       "      <td>1978:sample_1</td>\n",
       "      <td>CASSPTGVNTLYF</td>\n",
       "      <td>6</td>\n",
       "      <td>1978</td>\n",
       "      <td>sample_1</td>\n",
       "    </tr>\n",
       "    <tr>\n",
       "      <th>3979</th>\n",
       "      <td>1979:sample_1</td>\n",
       "      <td>CVSSGGLGVYAEQFF</td>\n",
       "      <td>4</td>\n",
       "      <td>1979</td>\n",
       "      <td>sample_1</td>\n",
       "    </tr>\n",
       "    <tr>\n",
       "      <th>3980</th>\n",
       "      <td>1980:sample_1</td>\n",
       "      <td>CASSTGGKQFF</td>\n",
       "      <td>3</td>\n",
       "      <td>1980</td>\n",
       "      <td>sample_1</td>\n",
       "    </tr>\n",
       "    <tr>\n",
       "      <th>3981</th>\n",
       "      <td>1981:sample_1</td>\n",
       "      <td>CASSPRVSAETLYF</td>\n",
       "      <td>16</td>\n",
       "      <td>1981</td>\n",
       "      <td>sample_1</td>\n",
       "    </tr>\n",
       "    <tr>\n",
       "      <th>3982</th>\n",
       "      <td>1982:sample_1</td>\n",
       "      <td>CASSPSDWLYEQYF</td>\n",
       "      <td>1</td>\n",
       "      <td>1982</td>\n",
       "      <td>sample_1</td>\n",
       "    </tr>\n",
       "  </tbody>\n",
       "</table>\n",
       "<p>3983 rows × 5 columns</p>\n",
       "</div>"
      ],
      "text/plain": [
       "                 id          sequence  count id_old data_origin\n",
       "0        0:sample_1    CASTAGTSNTEVFF      4      0    sample_1\n",
       "1        1:sample_1      CGGGADTGQLYF      3      1    sample_1\n",
       "2        2:sample_1     CGARFSYNSPLYF      2      2    sample_1\n",
       "3        3:sample_1       CASSLNTEVFF    125      3    sample_1\n",
       "4        4:sample_1  CASSLTGGGGAETLYF     10      4    sample_1\n",
       "...             ...               ...    ...    ...         ...\n",
       "3978  1978:sample_1     CASSPTGVNTLYF      6   1978    sample_1\n",
       "3979  1979:sample_1   CVSSGGLGVYAEQFF      4   1979    sample_1\n",
       "3980  1980:sample_1       CASSTGGKQFF      3   1980    sample_1\n",
       "3981  1981:sample_1    CASSPRVSAETLYF     16   1981    sample_1\n",
       "3982  1982:sample_1    CASSPSDWLYEQYF      1   1982    sample_1\n",
       "\n",
       "[3983 rows x 5 columns]"
      ]
     },
     "execution_count": 26,
     "metadata": {},
     "output_type": "execute_result"
    }
   ],
   "source": [
    "metadata_merged = sample_all_embeddings.metadata\n",
    "metadata_merged"
   ]
  },
  {
   "cell_type": "code",
   "execution_count": 28,
   "metadata": {},
   "outputs": [
    {
     "data": {
      "text/plain": [
       "0          0:sample_1\n",
       "1          1:sample_1\n",
       "2          2:sample_1\n",
       "3          3:sample_1\n",
       "4          4:sample_1\n",
       "            ...      \n",
       "3978    1978:sample_1\n",
       "3979    1979:sample_1\n",
       "3980    1980:sample_1\n",
       "3981    1981:sample_1\n",
       "3982    1982:sample_1\n",
       "Name: id, Length: 3966, dtype: object"
      ]
     },
     "execution_count": 28,
     "metadata": {},
     "output_type": "execute_result"
    }
   ],
   "source": [
    "metadata_merged[metadata_merged['sequence'].isin(sequence_common)]['id']"
   ]
  },
  {
   "cell_type": "code",
   "execution_count": null,
   "metadata": {},
   "outputs": [],
   "source": [
    "sample_all_embeddings.filter_by_ids(sequence_common)"
   ]
  }
 ],
 "metadata": {
  "kernelspec": {
   "display_name": "base",
   "language": "python",
   "name": "python3"
  },
  "language_info": {
   "codemirror_mode": {
    "name": "ipython",
    "version": 3
   },
   "file_extension": ".py",
   "mimetype": "text/x-python",
   "name": "python",
   "nbconvert_exporter": "python",
   "pygments_lexer": "ipython3",
   "version": "3.10.6"
  }
 },
 "nbformat": 4,
 "nbformat_minor": 2
}
