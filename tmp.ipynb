{
 "cells": [
  {
   "cell_type": "markdown",
   "metadata": {},
   "source": [
    "Connected to base (Python 3.10.6)"
   ]
  },
  {
   "cell_type": "code",
   "execution_count": 1,
   "metadata": {},
   "outputs": [],
   "source": [
    "import numpy as np"
   ]
  },
  {
   "cell_type": "code",
   "execution_count": 2,
   "metadata": {},
   "outputs": [],
   "source": [
    "import pandas as pd"
   ]
  },
  {
   "cell_type": "code",
   "execution_count": 3,
   "metadata": {},
   "outputs": [],
   "source": [
    "sample_1 = pd.read_csv(\"sample_data/sample_1.csv\")"
   ]
  },
  {
   "cell_type": "code",
   "execution_count": 4,
   "metadata": {},
   "outputs": [],
   "source": [
    "sample_1['id'] = sample_1.index"
   ]
  },
  {
   "cell_type": "code",
   "execution_count": 5,
   "metadata": {},
   "outputs": [],
   "source": [
    "sample_2 = pd.read_csv(\"sample_data/sample_2.csv\")"
   ]
  },
  {
   "cell_type": "code",
   "execution_count": 6,
   "metadata": {},
   "outputs": [],
   "source": [
    "sample_2['id'] = sample_2.index"
   ]
  },
  {
   "cell_type": "code",
   "execution_count": 7,
   "metadata": {},
   "outputs": [],
   "source": [
    "from tcrpeg_toolkit.embedding_handler import EmbeddingHandler"
   ]
  },
  {
   "cell_type": "code",
   "execution_count": 8,
   "metadata": {},
   "outputs": [
    {
     "name": "stderr",
     "output_type": "stream",
     "text": [
      "INFO - Data loaded from results_sample_data/embeddings/structured/sample_1_structured_embeddings.npy\n"
     ]
    }
   ],
   "source": [
    "sample_1_embeddings = EmbeddingHandler(\"results_sample_data/embeddings/structured/sample_1_structured_embeddings.npy\",\n",
    "                                       name ='sample_1', metadata=sample_1)"
   ]
  },
  {
   "cell_type": "code",
   "execution_count": 9,
   "metadata": {},
   "outputs": [
    {
     "name": "stderr",
     "output_type": "stream",
     "text": [
      "INFO - Data loaded from results_sample_data/embeddings/structured/sample_2_structured_embeddings.npy\n"
     ]
    }
   ],
   "source": [
    "sample_2_embeddings = EmbeddingHandler(\"results_sample_data/embeddings/structured/sample_2_structured_embeddings.npy\",\n",
    "                                       name ='sample_1', metadata=sample_2)"
   ]
  },
  {
   "cell_type": "code",
   "execution_count": 10,
   "metadata": {},
   "outputs": [],
   "source": [
    "sequence_common = np.intersect1d(sample_1['sequence'], sample_2['sequence'])"
   ]
  },
  {
   "cell_type": "code",
   "execution_count": 11,
   "metadata": {},
   "outputs": [
    {
     "data": {
      "text/plain": [
       "array([], dtype=object)"
      ]
     },
     "execution_count": 11,
     "metadata": {},
     "output_type": "execute_result"
    }
   ],
   "source": [
    "sequence_common"
   ]
  },
  {
   "cell_type": "code",
   "execution_count": 12,
   "metadata": {},
   "outputs": [],
   "source": [
    "sample_all_embeddings = sample_1_embeddings + sample_2_embeddings"
   ]
  },
  {
   "cell_type": "code",
   "execution_count": 13,
   "metadata": {},
   "outputs": [
    {
     "data": {
      "text/plain": [
       "EmbeddingHandler(embeddings_shape=(1579, 640), ids_shape=(1579,), sequences_shape=(1579,), metadata_shape=(1579, 5), name=sample_1_sample_1)"
      ]
     },
     "execution_count": 13,
     "metadata": {},
     "output_type": "execute_result"
    }
   ],
   "source": [
    "sample_all_embeddings"
   ]
  },
  {
   "cell_type": "code",
   "execution_count": 14,
   "metadata": {},
   "outputs": [
    {
     "data": {
      "text/html": [
       "<div>\n",
       "<style scoped>\n",
       "    .dataframe tbody tr th:only-of-type {\n",
       "        vertical-align: middle;\n",
       "    }\n",
       "\n",
       "    .dataframe tbody tr th {\n",
       "        vertical-align: top;\n",
       "    }\n",
       "\n",
       "    .dataframe thead th {\n",
       "        text-align: right;\n",
       "    }\n",
       "</style>\n",
       "<table border=\"1\" class=\"dataframe\">\n",
       "  <thead>\n",
       "    <tr style=\"text-align: right;\">\n",
       "      <th></th>\n",
       "      <th>id</th>\n",
       "      <th>sequence</th>\n",
       "      <th>count</th>\n",
       "      <th>id_old</th>\n",
       "      <th>data_origin</th>\n",
       "    </tr>\n",
       "  </thead>\n",
       "  <tbody>\n",
       "    <tr>\n",
       "      <th>0</th>\n",
       "      <td>0:sample_1</td>\n",
       "      <td>CASSAPGTGRTLYF</td>\n",
       "      <td>3</td>\n",
       "      <td>0</td>\n",
       "      <td>sample_1</td>\n",
       "    </tr>\n",
       "    <tr>\n",
       "      <th>1</th>\n",
       "      <td>1:sample_1</td>\n",
       "      <td>CASTWGGDTQYF</td>\n",
       "      <td>4</td>\n",
       "      <td>1</td>\n",
       "      <td>sample_1</td>\n",
       "    </tr>\n",
       "    <tr>\n",
       "      <th>2</th>\n",
       "      <td>2:sample_1</td>\n",
       "      <td>CASSIQGEGVFF</td>\n",
       "      <td>5</td>\n",
       "      <td>2</td>\n",
       "      <td>sample_1</td>\n",
       "    </tr>\n",
       "    <tr>\n",
       "      <th>3</th>\n",
       "      <td>3:sample_1</td>\n",
       "      <td>CAWSLIEQYF</td>\n",
       "      <td>6</td>\n",
       "      <td>3</td>\n",
       "      <td>sample_1</td>\n",
       "    </tr>\n",
       "    <tr>\n",
       "      <th>4</th>\n",
       "      <td>4:sample_1</td>\n",
       "      <td>CASSRNNTEVFF</td>\n",
       "      <td>7</td>\n",
       "      <td>4</td>\n",
       "      <td>sample_1</td>\n",
       "    </tr>\n",
       "    <tr>\n",
       "      <th>...</th>\n",
       "      <td>...</td>\n",
       "      <td>...</td>\n",
       "      <td>...</td>\n",
       "      <td>...</td>\n",
       "      <td>...</td>\n",
       "    </tr>\n",
       "    <tr>\n",
       "      <th>1574</th>\n",
       "      <td>1121:sample_1</td>\n",
       "      <td>CAWSLGYNSPLYF</td>\n",
       "      <td>1124</td>\n",
       "      <td>1121</td>\n",
       "      <td>sample_1</td>\n",
       "    </tr>\n",
       "    <tr>\n",
       "      <th>1575</th>\n",
       "      <td>1122:sample_1</td>\n",
       "      <td>CASSYGEQFF</td>\n",
       "      <td>1125</td>\n",
       "      <td>1122</td>\n",
       "      <td>sample_1</td>\n",
       "    </tr>\n",
       "    <tr>\n",
       "      <th>1576</th>\n",
       "      <td>1123:sample_1</td>\n",
       "      <td>CASSQDSGGLYEQYF</td>\n",
       "      <td>1126</td>\n",
       "      <td>1123</td>\n",
       "      <td>sample_1</td>\n",
       "    </tr>\n",
       "    <tr>\n",
       "      <th>1577</th>\n",
       "      <td>1124:sample_1</td>\n",
       "      <td>CASSLDGTNSPLYF</td>\n",
       "      <td>1127</td>\n",
       "      <td>1124</td>\n",
       "      <td>sample_1</td>\n",
       "    </tr>\n",
       "    <tr>\n",
       "      <th>1578</th>\n",
       "      <td>1125:sample_1</td>\n",
       "      <td>CAWSHDRNTEVFF</td>\n",
       "      <td>1128</td>\n",
       "      <td>1125</td>\n",
       "      <td>sample_1</td>\n",
       "    </tr>\n",
       "  </tbody>\n",
       "</table>\n",
       "<p>1579 rows × 5 columns</p>\n",
       "</div>"
      ],
      "text/plain": [
       "                 id         sequence  count id_old data_origin\n",
       "0        0:sample_1   CASSAPGTGRTLYF      3      0    sample_1\n",
       "1        1:sample_1     CASTWGGDTQYF      4      1    sample_1\n",
       "2        2:sample_1     CASSIQGEGVFF      5      2    sample_1\n",
       "3        3:sample_1       CAWSLIEQYF      6      3    sample_1\n",
       "4        4:sample_1     CASSRNNTEVFF      7      4    sample_1\n",
       "...             ...              ...    ...    ...         ...\n",
       "1574  1121:sample_1    CAWSLGYNSPLYF   1124   1121    sample_1\n",
       "1575  1122:sample_1       CASSYGEQFF   1125   1122    sample_1\n",
       "1576  1123:sample_1  CASSQDSGGLYEQYF   1126   1123    sample_1\n",
       "1577  1124:sample_1   CASSLDGTNSPLYF   1127   1124    sample_1\n",
       "1578  1125:sample_1    CAWSHDRNTEVFF   1128   1125    sample_1\n",
       "\n",
       "[1579 rows x 5 columns]"
      ]
     },
     "execution_count": 14,
     "metadata": {},
     "output_type": "execute_result"
    }
   ],
   "source": [
    "metadata_merged = sample_all_embeddings.metadata\n",
    "metadata_merged"
   ]
  },
  {
   "cell_type": "code",
   "execution_count": 15,
   "metadata": {},
   "outputs": [
    {
     "data": {
      "text/plain": [
       "Series([], Name: id, dtype: object)"
      ]
     },
     "execution_count": 15,
     "metadata": {},
     "output_type": "execute_result"
    }
   ],
   "source": [
    "metadata_merged[metadata_merged['sequence'].isin(sequence_common)]['id']"
   ]
  },
  {
   "cell_type": "code",
   "execution_count": 17,
   "metadata": {},
   "outputs": [
    {
     "data": {
      "text/plain": [
       "EmbeddingHandler(embeddings_shape=(0, 640), ids_shape=(0,), sequences_shape=(0,), metadata_shape=(0, 5), name=sample_1_sample_1)"
      ]
     },
     "execution_count": 17,
     "metadata": {},
     "output_type": "execute_result"
    }
   ],
   "source": [
    "sample_all_embeddings.filter_by_id(sequence_common)"
   ]
  }
 ],
 "metadata": {
  "kernelspec": {
   "display_name": "tcrpeg_env",
   "language": "python",
   "name": "python3"
  },
  "language_info": {
   "codemirror_mode": {
    "name": "ipython",
    "version": 3
   },
   "file_extension": ".py",
   "mimetype": "text/x-python",
   "name": "python",
   "nbconvert_exporter": "python",
   "pygments_lexer": "ipython3",
   "version": "3.11.10"
  }
 },
 "nbformat": 4,
 "nbformat_minor": 2
}
